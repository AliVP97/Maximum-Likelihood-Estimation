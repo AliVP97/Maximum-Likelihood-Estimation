{
 "cells": [
  {
   "cell_type": "markdown",
   "metadata": {},
   "source": [
    "<h3>Import Libraries</h3>"
   ]
  },
  {
   "cell_type": "code",
   "execution_count": 1,
   "metadata": {},
   "outputs": [],
   "source": [
    "# from PIL import \n",
    "from PIL import Image\n",
    "import numpy as np"
   ]
  },
  {
   "cell_type": "markdown",
   "metadata": {},
   "source": [
    "<h3>Test and Train Optimization</h3>"
   ]
  },
  {
   "cell_type": "markdown",
   "metadata": {},
   "source": [
    "Test and Train Ratio"
   ]
  },
  {
   "cell_type": "code",
   "execution_count": 2,
   "metadata": {},
   "outputs": [],
   "source": [
    "testRatio = 0.3\n",
    "trainRatio = 1 - testRatio"
   ]
  },
  {
   "cell_type": "code",
   "execution_count": 3,
   "metadata": {},
   "outputs": [],
   "source": [
    "points = np.loadtxt(\"points.txt\")"
   ]
  },
  {
   "cell_type": "code",
   "execution_count": 4,
   "metadata": {},
   "outputs": [],
   "source": [
    "def randomFind(size, array):\n",
    "    xLength = array.shape[0]\n",
    "    yLength = array.shape[1]\n",
    "    output = randXs = randYs = []\n",
    "    \n",
    "    randX = np.random.randint(0, xLength)\n",
    "    randY = np.random.randint(0, yLength)\n",
    "    \n",
    "    for i in range(0, size):\n",
    "        while randXs == randX and randYs == randY:\n",
    "            randX = np.random.randint(0, xLength)\n",
    "            randY = np.random.randint(0, yLength)\n",
    "        else:\n",
    "            randXs.append(randX)\n",
    "            randYs.append(randY)\n",
    "        \n",
    "        output[i] = [randXs[i], randYs[i]]\n",
    "     \n",
    "    return output"
   ]
  },
  {
   "cell_type": "code",
   "execution_count": 6,
   "metadata": {},
   "outputs": [
    {
     "ename": "UnboundLocalError",
     "evalue": "local variable 'randX' referenced before assignment",
     "output_type": "error",
     "traceback": [
      "\u001b[1;31m---------------------------------------------------------------------------\u001b[0m",
      "\u001b[1;31mUnboundLocalError\u001b[0m                         Traceback (most recent call last)",
      "\u001b[1;32m~\\AppData\\Local\\Temp/ipykernel_17340/4242712754.py\u001b[0m in \u001b[0;36m<module>\u001b[1;34m\u001b[0m\n\u001b[0;32m      2\u001b[0m \u001b[0mtrainPixelNumber\u001b[0m \u001b[1;33m=\u001b[0m \u001b[0mint\u001b[0m\u001b[1;33m(\u001b[0m\u001b[0mtotalPixel\u001b[0m \u001b[1;33m*\u001b[0m \u001b[0mtrainRatio\u001b[0m\u001b[1;33m)\u001b[0m\u001b[1;33m\u001b[0m\u001b[1;33m\u001b[0m\u001b[0m\n\u001b[0;32m      3\u001b[0m \u001b[0mtestPixelNumber\u001b[0m \u001b[1;33m=\u001b[0m \u001b[0mint\u001b[0m\u001b[1;33m(\u001b[0m\u001b[0mtotalPixel\u001b[0m \u001b[1;33m*\u001b[0m \u001b[0mtestRatio\u001b[0m\u001b[1;33m)\u001b[0m\u001b[1;33m\u001b[0m\u001b[1;33m\u001b[0m\u001b[0m\n\u001b[1;32m----> 4\u001b[1;33m \u001b[0mrandomFind\u001b[0m\u001b[1;33m(\u001b[0m\u001b[0mtestPixelNumber\u001b[0m\u001b[1;33m,\u001b[0m \u001b[0mpoints\u001b[0m\u001b[1;33m)\u001b[0m\u001b[1;33m\u001b[0m\u001b[1;33m\u001b[0m\u001b[0m\n\u001b[0m",
      "\u001b[1;32m~\\AppData\\Local\\Temp/ipykernel_17340/1565529517.py\u001b[0m in \u001b[0;36mrandomFind\u001b[1;34m(size, array)\u001b[0m\n\u001b[0;32m      5\u001b[0m \u001b[1;33m\u001b[0m\u001b[0m\n\u001b[0;32m      6\u001b[0m     \u001b[1;32mfor\u001b[0m \u001b[0mi\u001b[0m \u001b[1;32min\u001b[0m \u001b[0mrange\u001b[0m\u001b[1;33m(\u001b[0m\u001b[1;36m0\u001b[0m\u001b[1;33m,\u001b[0m \u001b[0msize\u001b[0m\u001b[1;33m)\u001b[0m\u001b[1;33m:\u001b[0m\u001b[1;33m\u001b[0m\u001b[1;33m\u001b[0m\u001b[0m\n\u001b[1;32m----> 7\u001b[1;33m         \u001b[1;32mwhile\u001b[0m \u001b[0mrandXs\u001b[0m \u001b[1;33m==\u001b[0m \u001b[0mrandX\u001b[0m \u001b[1;32mand\u001b[0m \u001b[0mrandYs\u001b[0m \u001b[1;33m==\u001b[0m \u001b[0mrandY\u001b[0m\u001b[1;33m:\u001b[0m\u001b[1;33m\u001b[0m\u001b[1;33m\u001b[0m\u001b[0m\n\u001b[0m\u001b[0;32m      8\u001b[0m             \u001b[0mrandX\u001b[0m \u001b[1;33m=\u001b[0m \u001b[0mnp\u001b[0m\u001b[1;33m.\u001b[0m\u001b[0mrandom\u001b[0m\u001b[1;33m.\u001b[0m\u001b[0mrandint\u001b[0m\u001b[1;33m(\u001b[0m\u001b[1;36m0\u001b[0m\u001b[1;33m,\u001b[0m \u001b[0mxLength\u001b[0m\u001b[1;33m)\u001b[0m\u001b[1;33m\u001b[0m\u001b[1;33m\u001b[0m\u001b[0m\n\u001b[0;32m      9\u001b[0m             \u001b[0mrandY\u001b[0m \u001b[1;33m=\u001b[0m \u001b[0mnp\u001b[0m\u001b[1;33m.\u001b[0m\u001b[0mrandom\u001b[0m\u001b[1;33m.\u001b[0m\u001b[0mrandint\u001b[0m\u001b[1;33m(\u001b[0m\u001b[1;36m0\u001b[0m\u001b[1;33m,\u001b[0m \u001b[0myLength\u001b[0m\u001b[1;33m)\u001b[0m\u001b[1;33m\u001b[0m\u001b[1;33m\u001b[0m\u001b[0m\n",
      "\u001b[1;31mUnboundLocalError\u001b[0m: local variable 'randX' referenced before assignment"
     ]
    }
   ],
   "source": [
    "totalPixel = points.shape[0] * points.shape[1]\n",
    "trainPixelNumber = int(totalPixel * trainRatio)\n",
    "testPixelNumber = int(totalPixel * testRatio)\n",
    "\n",
    "randomFind(testPixelNumber, points)"
   ]
  },
  {
   "cell_type": "markdown",
   "metadata": {},
   "source": [
    "Load Image"
   ]
  },
  {
   "cell_type": "code",
   "execution_count": null,
   "metadata": {},
   "outputs": [
    {
     "name": "stdout",
     "output_type": "stream",
     "text": [
      "JPEG\n",
      "(3764, 2520)\n",
      "RGB\n"
     ]
    }
   ],
   "source": [
    "Image.MAX_IMAGE_PIXELS = 15096150560\n",
    "# load image as pixel array\n",
    "image = Image.open('E:/Ali/KNTU/Pattern Recognition/Project/MLE/test.jpg')\n",
    "# summarize shape of the pixel array\n",
    "print(image.format)\n",
    "print(image.size)\n",
    "print(image.mode)\n",
    "image = np.array(image)"
   ]
  },
  {
   "cell_type": "markdown",
   "metadata": {},
   "source": [
    "Seperate Bands R G B"
   ]
  },
  {
   "cell_type": "code",
   "execution_count": null,
   "metadata": {},
   "outputs": [],
   "source": [
    "red = image[:,:,0]\n",
    "green = image[:,:,1]\n",
    "blue = image[:,:,2]"
   ]
  },
  {
   "cell_type": "code",
   "execution_count": null,
   "metadata": {},
   "outputs": [
    {
     "data": {
      "text/plain": [
       "array([ 113,  113,  110, ..., 1928, 1929, 1931], dtype=int64)"
      ]
     },
     "execution_count": 31,
     "metadata": {},
     "output_type": "execute_result"
    }
   ],
   "source": [
    "np.where(red==1)[1]"
   ]
  },
  {
   "cell_type": "code",
   "execution_count": null,
   "metadata": {},
   "outputs": [],
   "source": [
    "# np.savetxt(\"array.txt\", np.random.randint(0,5,[3764, 2520]), fmt=\"%s\")"
   ]
  },
  {
   "cell_type": "code",
   "execution_count": null,
   "metadata": {},
   "outputs": [],
   "source": [
    "# trainPoints =  open(\"train.txt\", \"r\")\n",
    "# testPoints =  open(\"test.txt\", \"r\")"
   ]
  },
  {
   "cell_type": "code",
   "execution_count": null,
   "metadata": {},
   "outputs": [],
   "source": [
    "# red = np.zeros((image.size[0], image.size[1]))\n",
    "# green = np.zeros((image.size[0], image.size[1]))\n",
    "# blue = np.zeros((image.size[0], image.size[1]))\n",
    "# for y in range(image.size[0]):\n",
    "#     for x in range(image.size[1]):\n",
    "#         red[y, x], green[y, x], blue[y,x] = image.getpixel((y, x)) "
   ]
  }
 ],
 "metadata": {
  "interpreter": {
   "hash": "b8e7fc6ac90fd1bd48ef58d1385dc034b8e63319f8d74e514aed1f4e1aa31158"
  },
  "kernelspec": {
   "display_name": "Python 3.9.9 64-bit ('PatternRecognition': venv)",
   "language": "python",
   "name": "python3"
  },
  "language_info": {
   "codemirror_mode": {
    "name": "ipython",
    "version": 3
   },
   "file_extension": ".py",
   "mimetype": "text/x-python",
   "name": "python",
   "nbconvert_exporter": "python",
   "pygments_lexer": "ipython3",
   "version": "3.9.9"
  },
  "orig_nbformat": 4
 },
 "nbformat": 4,
 "nbformat_minor": 2
}
